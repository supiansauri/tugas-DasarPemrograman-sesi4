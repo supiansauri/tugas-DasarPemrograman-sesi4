{
 "cells": [
  {
   "cell_type": "markdown",
   "metadata": {},
   "source": [
    "<h1>Praktikum Variabel & Tipe Data</h1>\n",
    "\n",
    "<h3>Soal 1</h3>\n",
    "Kiki belanja ke alf$$a M$a$r$t membeli 3 hepitos, 2 silperkuin, telor 2kg, beras 5kg, isi ulang akua galon seharga Rp 13.000. Harga hepitos yaitu Rp 15.000, telor Rp 13.000/kg, silperkuin Rp 21.000 beras kemasan 2.5kg seharga Rp 20.000. Toko tersebut memberikan discount 5%, ketika customer membeli makanan lebih dari 3 jenis. Berapakah total bayar belanjaan dari Kiki?\n"
   ]
  },
  {
   "cell_type": "markdown",
   "metadata": {},
   "source": [
    "<h1>Analyze Here</h1>\n",
    "\n",
    "Data barang atau produk:</br>\n",
    "<table>\n",
    "  <thead>\n",
    "    <tr>\n",
    "      <th>NO</th>\n",
    "      <th>Barang</th>\n",
    "      <th>Harga</th>\n",
    "      <th>Satuan</th>\n",
    "    </tr>\n",
    "  </thead>\n",
    "  <tbody>\n",
    "    <tr>\n",
    "      <td>1</td>\n",
    "      <td>Hepitos</td>\n",
    "      <td>15.000</td>\n",
    "      <td>pcs</td>\n",
    "    </tr>\n",
    "    <tr>\n",
    "      <td>2</td>\n",
    "      <td>Telor</td>\n",
    "      <td>13.000</td>\n",
    "      <td>kg</td>\n",
    "    </tr>\n",
    "    <tr>\n",
    "      <td>3</td>\n",
    "      <td>Silperkuin</td>\n",
    "      <td>21.000</td>\n",
    "      <td>pcs</td>\n",
    "    </tr>\n",
    "    <tr>\n",
    "      <td>4</td>\n",
    "      <td>Beras</td>\n",
    "      <td>20.000</td>\n",
    "      <td>Karung (2.5 kg)</td>\n",
    "    </tr>\n",
    "    <tr>\n",
    "      <td>5</td>\n",
    "      <td>Isi ulang Aqua Galon</td>\n",
    "      <td>13.000</td>\n",
    "      <td>galon</td>\n",
    "    </tr>\n",
    "  </tbody>\n",
    "</table>\n",
    "\n"
   ]
  },
  {
   "cell_type": "code",
   "execution_count": 14,
   "metadata": {},
   "outputs": [
    {
     "name": "stdout",
     "output_type": "stream",
     "text": [
      "157700.0\n"
     ]
    }
   ],
   "source": [
    "#List\n",
    "a = Hepitos = 15_000\n",
    "b = Silperkuin = 21_000\n",
    "c = telor = 13_000\n",
    "d = beras = 20_000 #2.5kg\n",
    "e = akuaGalon = 13_000\n",
    "dsc = 0.05\n",
    "\n",
    "hasil = (3 * a) + (2 * b) + (2 * c) + (2 * d) + e\n",
    "\n",
    "\n",
    "print(hasil - (hasil*dsc))"
   ]
  },
  {
   "cell_type": "markdown",
   "metadata": {},
   "source": [
    "<h3>Soal 2</h3>\n",
    "Roni menabung pada bulan agustus yaitu setiap tanggal ganjil sejumlah Rp 50.000, setiap tanggal genap sejumlah RP 10.000 dan setiap tanggal kelipatan 5 sejumlah Rp 5.000, Berapakah total tabungan Roni diakhir bulan?"
   ]
  },
  {
   "cell_type": "markdown",
   "metadata": {},
   "source": [
    "<h1>Analyze Here</h1>\n",
    "\n",
    "Roni menabung selama bulan Agustus, berarti selama `31` hari. Kita akan membuat perulangan untuk setiap tanggal selama 31 hari, lalu mengecek setiap tanggalnya apakah tanggal ganjil, genap, atau kelipatan lima lalu menabung sesuai kondisi tanggal tersebut.\n",
    "\n",
    "Akan ada kemungkinan tanggal kelipatan lima juga merupakan tanggal ganjil atau genap, untuk itu yang pertama kita cek adalah apakah tanggalnya merupakan kelipatan lima, lalu jika tidak maka cek kembali apakah tanggalnya ganjil atau genap."
   ]
  },
  {
   "cell_type": "code",
   "execution_count": 16,
   "metadata": {},
   "outputs": [
    {
     "name": "stdout",
     "output_type": "stream",
     "text": [
      "800000\n"
     ]
    }
   ],
   "source": [
    "import math\n",
    "hari = 31\n",
    "Hkel5 = hari // 5\n",
    "Hganjil = math.ceil(hari / 2) - 3 #karena termasuk kelipatan 5 #memakai math.ceil agar pembulatan ke atas\n",
    "Hgenap = hari // 2 - 3 #karena termasuk kelipatan 5\n",
    "\n",
    "tabungan = (Hkel5 * 5000) + (Hganjil * 50000) + (Hgenap * 10000)\n",
    "print(tabungan)"
   ]
  },
  {
   "cell_type": "markdown",
   "metadata": {},
   "source": [
    "<h3>Soal 3</h3>\n",
    "Saat hari raya, Deni ingin menukarkan uang sejumlah Rp 5.000.000 ke pecahan 20rb, 10rb, 5rb, 2rb. berapa jumlahnya yang didapatkan Deni jika 20rb maksimal 100, 10rb maksimal 50.Jika :\n",
    "<ol>\n",
    "    <li>3(a)Semua pecahan harus ada</li>\n",
    "    <li>3(b)Hanya pecahan 20rb, 10rb dan 5rb</li>\n",
    "    <li>3(c)Hanya pecahan 20rb, 10rb dan 2rb</li>\n",
    "</ol>"
   ]
  },
  {
   "cell_type": "code",
   "execution_count": 19,
   "metadata": {},
   "outputs": [
    {
     "name": "stdout",
     "output_type": "stream",
     "text": [
      "Jika semua pecahan ada, maka 20k : 100 lembar, 10k : 50 lembar, 5k : 250.0 lembar, 2k 625.0 lembar\n",
      "Jika hanya 20k 10k dan 5k, maka 20k : 100 lembar, 10k : 50 lembar, 5k : 500.0 lembar\n",
      "Jika hanya 20k 10k dan 2k, maka 20k : 100 lembar, 10k : 50 lembar, 2k : 1250.0 lembar\n"
     ]
    }
   ],
   "source": [
    "uang = 5_000_000\n",
    "\n",
    "max20k = 20_000 * 100\n",
    "lembar20k = 100\n",
    "max10k = 10_000 * 50\n",
    "lembar10k = 50\n",
    "\n",
    "sisa = max20k + max10k\n",
    "\n",
    "#point a\n",
    "sisa2 = uang - sisa\n",
    "\n",
    "lembar5k = (sisa2 / 2) /5000\n",
    "lembar2k = (sisa2 / 2) /2000\n",
    "\n",
    "print(\"Jika semua pecahan ada, maka\",\"20k :\",lembar20k,\"lembar,\",\"10k :\",lembar10k,\"lembar,\",\"5k :\",lembar5k,\"lembar,\",\"2k\",lembar2k,\"lembar\")\n",
    "\n",
    "#pointb\n",
    "sisa2 = uang - sisa\n",
    "\n",
    "lembar5kb = sisa2 / 5000\n",
    "print(\"Jika hanya 20k 10k dan 5k, maka\",\"20k :\",lembar20k,\"lembar,\",\"10k :\",lembar10k,\"lembar,\",\"5k :\",lembar5kb,\"lembar\")\n",
    "\n",
    "#pointc\n",
    "sisa2 = uang - sisa\n",
    "\n",
    "lembar2kc = sisa2 / 2000\n",
    "print(\"Jika hanya 20k 10k dan 2k, maka\",\"20k :\",lembar20k,\"lembar,\",\"10k :\",lembar10k,\"lembar,\",\"2k :\",lembar2kc,\"lembar\")"
   ]
  },
  {
   "cell_type": "markdown",
   "metadata": {},
   "source": [
    "<h3>Soal 4</h3>\n",
    "Berapakah hasil dari (10/23-6+4-(20//3%2)) ?\n",
    "Lakukan analisa perhitungan dari hasil tersebut!\n",
    "Berdasarkan hasil tersebut urutkan operator yang dikerjakan!"
   ]
  },
  {
   "cell_type": "markdown",
   "metadata": {},
   "source": [
    "<h1>Analyze Here</h1>\n",
    "Dalam peraturan matemetika, perkalian dan pembagian memiliki kekuatan lebih besar. Maka, pembagian dan perkalian menjadi lebih awal."
   ]
  },
  {
   "cell_type": "code",
   "execution_count": 18,
   "metadata": {},
   "outputs": [
    {
     "name": "stdout",
     "output_type": "stream",
     "text": [
      "-1.565217391304348\n"
     ]
    }
   ],
   "source": [
    "# Urutan Operator\n",
    "\n",
    "c = -(20//3%2) #didalam kurung  dahulu\n",
    "a = 10/23 #pembagian\n",
    "b = -6+4 #penjumlahan\n",
    "\n",
    "print(c+a+b)\n"
   ]
  },
  {
   "cell_type": "markdown",
   "metadata": {},
   "source": [
    "<h3>Soal 5</h3>\n",
    "Jika terdapat string yaitu \"UFLOPYXTKJACSWRBGQZVDMEHIN\", maka susunlah nama kalian masing-masing dari data tersebut, berdasarkan index dari masing-masing huruf yang ada pada string tersebut!\n"
   ]
  },
  {
   "cell_type": "markdown",
   "metadata": {},
   "source": [
    "<h1>Analyze Here</h1>\n",
    "Sesuai yang di katakan oleh pak alun,maka dalam soal tersebut, maka (U = 0 dst)"
   ]
  },
  {
   "cell_type": "code",
   "execution_count": 21,
   "metadata": {},
   "outputs": [
    {
     "name": "stdout",
     "output_type": "stream",
     "text": [
      "SUPIAN\n"
     ]
    }
   ],
   "source": [
    "huruf = \"UFLOPYXTKJACSWRBGQZVDMEHIN\" #U=0\n",
    "\n",
    "s = huruf[12]\n",
    "u = huruf[0]\n",
    "p = huruf[4]\n",
    "i = huruf[24]\n",
    "a = huruf[10]\n",
    "n = huruf[25]\n",
    "\n",
    "print(f\"{s}{u}{p}{i}{a}{n}\")"
   ]
  }
 ],
 "metadata": {
  "kernelspec": {
   "display_name": "Python 3 (ipykernel)",
   "language": "python",
   "name": "python3"
  },
  "language_info": {
   "codemirror_mode": {
    "name": "ipython",
    "version": 3
   },
   "file_extension": ".py",
   "mimetype": "text/x-python",
   "name": "python",
   "nbconvert_exporter": "python",
   "pygments_lexer": "ipython3",
   "version": "3.9.12"
  },
  "vscode": {
   "interpreter": {
    "hash": "e7370f93d1d0cde622a1f8e1c04877d8463912d04d973331ad4851f04de6915a"
   }
  }
 },
 "nbformat": 4,
 "nbformat_minor": 4
}
